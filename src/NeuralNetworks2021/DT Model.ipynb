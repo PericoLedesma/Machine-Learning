{
 "cells": [
  {
   "cell_type": "markdown",
   "id": "257f7558",
   "metadata": {},
   "source": [
    "# Index\n",
    "\n",
    "1. Preprocesing raw data <br>\n",
    "    1.1.  Reading files<br>\n",
    "    1.2. Resizing<br>\n",
    "    1.3. Splitting data (50%-50% now)<br>\n",
    "    1.4. Binarization<br>\n",
    "    1.5. Normalization<br>\n",
    "2. Model implementation: Decision tree with Kernel PCA dimension reduction<br>\n",
    "    2.1. K-fold validation<br>\n",
    "    2.2. Grid search<br>"
   ]
  },
  {
   "cell_type": "markdown",
   "id": "9558c69a",
   "metadata": {},
   "source": [
    "### Libraries"
   ]
  },
  {
   "cell_type": "code",
   "execution_count": 417,
   "id": "679bf530",
   "metadata": {},
   "outputs": [],
   "source": [
    "import pandas as pd\n",
    "import numpy as np\n",
    "import matplotlib.pyplot as plt\n",
    "import seaborn as sns\n",
    "\n",
    "from sklearn.decomposition import KernelPCA\n",
    "\n",
    "from sklearn.metrics import multilabel_confusion_matrix\n",
    "from sklearn import metrics "
   ]
  },
  {
   "cell_type": "markdown",
   "id": "e8c2ef90",
   "metadata": {},
   "source": [
    "# 1. Preprocesing raw data"
   ]
  },
  {
   "cell_type": "markdown",
   "id": "4d0a67d9",
   "metadata": {},
   "source": [
    "### 1.1 Reading data file"
   ]
  },
  {
   "cell_type": "code",
   "execution_count": 418,
   "id": "359f981d",
   "metadata": {},
   "outputs": [],
   "source": [
    "#df = pd.read_csv('mfeat-pix.txt', header=None, delimiter='\\n')\n",
    "\n",
    "with open('mfeat-pix.txt') as f:\n",
    "    raw_dataset = f.readlines()"
   ]
  },
  {
   "cell_type": "code",
   "execution_count": 419,
   "id": "c9e20b1a",
   "metadata": {},
   "outputs": [],
   "source": [
    "for i in range(len(raw_dataset)):\n",
    "    array = raw_dataset[i].split(' ')\n",
    "    a = np.array('')\n",
    "    # We do an array with the items\n",
    "    for item in array:\n",
    "        a = np.append(a, item)\n",
    "\n",
    "    # We delete empty items\n",
    "    a = a[a != \"\"]\n",
    "\n",
    "    # We change it from string to float\n",
    "    a = a.astype('float64')\n",
    "\n",
    "    if i == 0:\n",
    "        dataset = a\n",
    "    else:\n",
    "        dataset = np.vstack([dataset, a])"
   ]
  },
  {
   "cell_type": "markdown",
   "id": "8014db5c",
   "metadata": {},
   "source": [
    "### 1.2 Resizing"
   ]
  },
  {
   "cell_type": "code",
   "execution_count": 420,
   "id": "c01f6157",
   "metadata": {},
   "outputs": [],
   "source": [
    "# Resizing to make 20 groups of 100 images, where each groups has 1 number\n",
    "dataset = np.resize(dataset, (20, 24000))\n",
    "dataset = np.array([np.resize(row, (100, 240))for row in dataset])"
   ]
  },
  {
   "cell_type": "markdown",
   "id": "afe269d0",
   "metadata": {},
   "source": [
    "### 1.3 Splitting data (50%-50% now)"
   ]
  },
  {
   "cell_type": "code",
   "execution_count": 421,
   "id": "eb0ef347",
   "metadata": {},
   "outputs": [
    {
     "data": {
      "text/plain": [
       "(20, 100, 240)"
      ]
     },
     "execution_count": 421,
     "metadata": {},
     "output_type": "execute_result"
    }
   ],
   "source": [
    "dataset.shape"
   ]
  },
  {
   "cell_type": "code",
   "execution_count": 422,
   "id": "d473ba54",
   "metadata": {},
   "outputs": [],
   "source": [
    "# Each X array has 100 images of one number (10 numbers = 1000 images)\n",
    "X_train = dataset[::2]\n",
    "X_test = dataset[1::2]"
   ]
  },
  {
   "cell_type": "code",
   "execution_count": 423,
   "id": "34c6cc65",
   "metadata": {},
   "outputs": [],
   "source": [
    "# Creating array with the labels.\n",
    "y_train=[0]\n",
    "number = 0\n",
    "\n",
    "for i in range(1,1000):\n",
    "    if i%100 == 0 and i!=0:\n",
    "        number+=1\n",
    "        \n",
    "    y_train = np.vstack([y_train, number])\n",
    "    \n",
    "y_test=y_train"
   ]
  },
  {
   "cell_type": "code",
   "execution_count": 424,
   "id": "b99c1e38",
   "metadata": {},
   "outputs": [
    {
     "data": {
      "text/plain": [
       "((2000, 240), (2000, 1))"
      ]
     },
     "execution_count": 424,
     "metadata": {},
     "output_type": "execute_result"
    }
   ],
   "source": [
    "dataset = np.resize(dataset, (2000, 240))\n",
    "# Creating array with the labels of the original dataset\n",
    "dataset_labels=[0]\n",
    "number = 0\n",
    "\n",
    "for i in range(1,2000):\n",
    "    if i%200 == 0 and i!=0:\n",
    "        number+=1\n",
    "        \n",
    "    dataset_labels = np.vstack([dataset_labels, number])\n",
    "dataset.shape, dataset_labels.shape"
   ]
  },
  {
   "cell_type": "markdown",
   "id": "4021cc45",
   "metadata": {},
   "source": [
    "X_train, X_test, y_train, y_test"
   ]
  },
  {
   "cell_type": "code",
   "execution_count": 425,
   "id": "c6565223",
   "metadata": {},
   "outputs": [],
   "source": [
    "# Resizing\n",
    "X_train = np.resize(X_train, (1000, 240))\n",
    "X_test = np.resize(X_test, (1000, 240))"
   ]
  },
  {
   "cell_type": "code",
   "execution_count": 426,
   "id": "ad50b369",
   "metadata": {},
   "outputs": [
    {
     "data": {
      "text/plain": [
       "((1000, 1), (1000, 240))"
      ]
     },
     "execution_count": 426,
     "metadata": {},
     "output_type": "execute_result"
    }
   ],
   "source": [
    "y_train.shape, X_train.shape"
   ]
  },
  {
   "cell_type": "markdown",
   "id": "45347d56",
   "metadata": {},
   "source": [
    "### 1.4 Binarization of the image"
   ]
  },
  {
   "cell_type": "code",
   "execution_count": 427,
   "id": "821a9972",
   "metadata": {},
   "outputs": [],
   "source": [
    "import cv2\n",
    "retval, X_train = cv2.threshold(src = X_train, thresh =3, maxval=6, type=cv2.THRESH_BINARY)\n",
    "retval, X_test = cv2.threshold(src = X_test, thresh =3, maxval=6, type=cv2.THRESH_BINARY)"
   ]
  },
  {
   "cell_type": "code",
   "execution_count": 428,
   "id": "45ff5e40",
   "metadata": {
    "scrolled": true
   },
   "outputs": [
    {
     "data": {
      "image/png": "[encoded data removed]",
      "text/plain": [
       "<Figure size 432x288 with 1 Axes>"
      ]
     },
     "metadata": {
      "needs_background": "light"
     },
     "output_type": "display_data"
    }
   ],
   "source": [
    "# Display a number to check\n",
    "display_number = X_train[5]\n",
    "display_number = np.resize(display_number, (16, 15))\n",
    "\n",
    "plt.imshow(display_number, cmap='binary')\n",
    "plt.show()"
   ]
  },
  {
   "cell_type": "markdown",
   "id": "64a02604",
   "metadata": {},
   "source": [
    "### 1.5 Normalice data"
   ]
  },
  {
   "cell_type": "code",
   "execution_count": 429,
   "id": "01bfd62e",
   "metadata": {},
   "outputs": [],
   "source": [
    "X_train = X_train/6\n",
    "X_test = X_test/6"
   ]
  },
  {
   "cell_type": "markdown",
   "id": "18a9688d",
   "metadata": {},
   "source": [
    "-----------\n",
    "# 2. Model implementation: Decision tree with Kernel PCA dimension reduction"
   ]
  },
  {
   "cell_type": "code",
   "execution_count": 430,
   "id": "a469f6d4",
   "metadata": {
    "scrolled": true
   },
   "outputs": [
    {
     "data": {
      "text/plain": [
       "((1000, 240), (1000, 1))"
      ]
     },
     "execution_count": 430,
     "metadata": {},
     "output_type": "execute_result"
    }
   ],
   "source": [
    "X_train.shape, y_train.shape"
   ]
  },
  {
   "cell_type": "markdown",
   "id": "49e695ba",
   "metadata": {},
   "source": [
    "#### With the original data"
   ]
  },
  {
   "cell_type": "code",
   "execution_count": 447,
   "id": "2255d0c5",
   "metadata": {},
   "outputs": [],
   "source": [
    "#Creating model and predicting output values on testing data. \n",
    "DT = DecisionTreeClassifier(criterion='entropy', random_state=np.random.RandomState(5))\n",
    "DT = DT.fit(X_train,y_train)\n",
    "y_pred = DT.predict(X_test)"
   ]
  },
  {
   "cell_type": "code",
   "execution_count": 448,
   "id": "34f5e68e",
   "metadata": {},
   "outputs": [],
   "source": [
    "y_pred = np.resize(y_pred,(1000,))\n",
    "y_test = np.resize(y_test,(1000,))"
   ]
  },
  {
   "cell_type": "code",
   "execution_count": 449,
   "id": "cd890180",
   "metadata": {},
   "outputs": [
    {
     "data": {
      "text/plain": [
       "0.856"
      ]
     },
     "execution_count": 449,
     "metadata": {},
     "output_type": "execute_result"
    }
   ],
   "source": [
    "# Accuracy of the model\n",
    "metrics.accuracy_score(y_test, y_pred)"
   ]
  },
  {
   "cell_type": "markdown",
   "id": "022a46b6",
   "metadata": {},
   "source": [
    "### Dimension reduction"
   ]
  },
  {
   "cell_type": "code",
   "execution_count": 434,
   "id": "ee19ba38",
   "metadata": {},
   "outputs": [],
   "source": [
    "pcakernel = KernelPCA(n_components=12, kernel='rbf')\n",
    "X_train_reduced = pcakernel.fit_transform(X_train)\n",
    "X_test_reduced = pcakernel.transform(X_test)"
   ]
  },
  {
   "cell_type": "code",
   "execution_count": 435,
   "id": "c2581872",
   "metadata": {},
   "outputs": [
    {
     "data": {
      "text/plain": [
       "((1000, 12), (1000, 12))"
      ]
     },
     "execution_count": 435,
     "metadata": {},
     "output_type": "execute_result"
    }
   ],
   "source": [
    "X_train_reduced.shape, X_test_reduced.shape"
   ]
  },
  {
   "cell_type": "code",
   "execution_count": 436,
   "id": "dd32ca26",
   "metadata": {},
   "outputs": [],
   "source": [
    "#Creating model and predicting output values on testing data. \n",
    "DT = DecisionTreeClassifier(criterion='entropy', random_state=np.random.RandomState(5))\n",
    "DT = DT.fit(X_train_reduced,y_train)\n",
    "y_pred = DT.predict(X_test_reduced)"
   ]
  },
  {
   "cell_type": "code",
   "execution_count": 437,
   "id": "2cccd5fb",
   "metadata": {},
   "outputs": [],
   "source": [
    "y_pred = np.resize(y_pred,(1000,))\n",
    "y_test = np.resize(y_test,(1000,))"
   ]
  },
  {
   "cell_type": "code",
   "execution_count": 438,
   "id": "ccb64ff8",
   "metadata": {},
   "outputs": [
    {
     "data": {
      "text/plain": [
       "((1000,), (1000,))"
      ]
     },
     "execution_count": 438,
     "metadata": {},
     "output_type": "execute_result"
    }
   ],
   "source": [
    "y_pred.shape, y_test.shape"
   ]
  },
  {
   "cell_type": "code",
   "execution_count": 439,
   "id": "b89365a9",
   "metadata": {},
   "outputs": [
    {
     "data": {
      "text/plain": [
       "0.859"
      ]
     },
     "execution_count": 439,
     "metadata": {},
     "output_type": "execute_result"
    }
   ],
   "source": [
    "# Accuracy of the model\n",
    "metrics.accuracy_score(y_test, y_pred)"
   ]
  },
  {
   "cell_type": "code",
   "execution_count": 440,
   "id": "ec95f1bc",
   "metadata": {},
   "outputs": [
    {
     "data": {
      "image/png": "[encoded data removed]",
      "text/plain": [
       "<Figure size 576x360 with 2 Axes>"
      ]
     },
     "metadata": {
      "needs_background": "light"
     },
     "output_type": "display_data"
    }
   ],
   "source": [
    "#Confusion matrix to evaluate the model \n",
    "plt.figure(figsize=(8,5))\n",
    "confusion_matrix = pd.crosstab(y_test, y_pred, rownames=['Actual'], \n",
    "                               colnames=['Predicted'])\n",
    "\n",
    "sns.heatmap(confusion_matrix, annot=True)\n",
    "#plt.savefig(\"Confusion_Matrix_KNN.png\")\n",
    "plt.show()"
   ]
  },
  {
   "cell_type": "markdown",
   "id": "c08bf46a",
   "metadata": {},
   "source": [
    "### 2.1 K-Fold function"
   ]
  },
  {
   "cell_type": "code",
   "execution_count": 441,
   "id": "3f307623",
   "metadata": {},
   "outputs": [],
   "source": [
    "from sklearn.model_selection import KFold, cross_val_score, GridSearchCV\n",
    "\n",
    "def k_fold(folds):\n",
    "    split_data = KFold(n_splits = folds, shuffle = True, random_state = np.random.RandomState(5))\n",
    "    return split_data, folds"
   ]
  },
  {
   "cell_type": "code",
   "execution_count": 442,
   "id": "bd5f3310",
   "metadata": {
    "scrolled": true
   },
   "outputs": [
    {
     "name": "stdout",
     "output_type": "stream",
     "text": [
      "Average accuracy from 3 folds: 0.8635044339692016\n",
      "\n",
      "Average accuracy from 5 folds: 0.8845000000000001\n"
     ]
    }
   ],
   "source": [
    "dt_k, dt_folds = k_fold(3)\n",
    "dt_k_, dt_folds_ = k_fold(5)\n",
    "\n",
    "input_data = dataset\n",
    "label_data = dataset_labels\n",
    "\n",
    "result = cross_val_score(DT , input_data, label_data, cv = dt_k)\n",
    "print(f\"Average accuracy from 3 folds: {result.mean()}\\n\")\n",
    "result_ = cross_val_score(DT , input_data, label_data, cv = dt_k_)\n",
    "print(f\"Average accuracy from 5 folds: {result_.mean()}\")\n"
   ]
  },
  {
   "cell_type": "markdown",
   "id": "9541ed62",
   "metadata": {},
   "source": [
    "### 2.3 Grid search Function"
   ]
  },
  {
   "cell_type": "code",
   "execution_count": 443,
   "id": "53077584",
   "metadata": {},
   "outputs": [],
   "source": [
    "def grid_search(model, hyper_params, score, folds):\n",
    "    gs = GridSearchCV(estimator = model,\n",
    "    param_grid = hyper_params,\n",
    "    scoring = score,\n",
    "    cv = folds,\n",
    "    return_train_score = True)\n",
    "    return gs    "
   ]
  },
  {
   "cell_type": "code",
   "execution_count": 444,
   "id": "a81e5507",
   "metadata": {},
   "outputs": [
    {
     "data": {
      "text/plain": [
       "GridSearchCV(cv=KFold(n_splits=5, random_state=RandomState(MT19937) at 0x7FF103AEBB40,\n",
       "   shuffle=True),\n",
       "             estimator=DecisionTreeClassifier(criterion='entropy',\n",
       "                                              random_state=RandomState(MT19937) at 0x7FF103A80440),\n",
       "             param_grid=[{'criterion': ['entropy'],\n",
       "                          'max_depth': [3, 4, 5, 6, 7, None],\n",
       "                          'splitter': ['best', 'random']}],\n",
       "             return_train_score=True, scoring='accuracy')"
      ]
     },
     "execution_count": 444,
     "metadata": {},
     "output_type": "execute_result"
    }
   ],
   "source": [
    "#Search for optimal Decision Tree parameters\n",
    "dt_hp = [{'criterion': ['entropy'],\n",
    "       'splitter': ['best', 'random'],\n",
    "       'max_depth': [3,4,5,6,7,None]}]\n",
    "\n",
    "model_gs_ = grid_search(DT, dt_hp, 'accuracy', dt_k_)\n",
    "model_gs_.fit(input_data, label_data)"
   ]
  },
  {
   "cell_type": "code",
   "execution_count": 445,
   "id": "6e396b7c",
   "metadata": {},
   "outputs": [
    {
     "name": "stdout",
     "output_type": "stream",
     "text": [
      "Model best parameter with 5 folds are: {'criterion': 'entropy', 'max_depth': None, 'splitter': 'random'}\n"
     ]
    }
   ],
   "source": [
    "print(f\"Model best parameter with {dt_folds_} folds are: {model_gs_.best_params_}\")"
   ]
  },
  {
   "cell_type": "code",
   "execution_count": 446,
   "id": "00d99828",
   "metadata": {},
   "outputs": [
    {
     "name": "stdout",
     "output_type": "stream",
     "text": [
      "Decision tree accuracy score with 5 and optimal parameters: 0.8755000000000001\n"
     ]
    }
   ],
   "source": [
    "#Rest parameters are default in class object.\n",
    "DT_best_ = DecisionTreeClassifier(criterion='entropy', max_depth= None, splitter= 'random')\n",
    "result_ = cross_val_score(DT_best_ , input_data, label_data, cv = dt_k_)\n",
    "print(f'Decision tree accuracy score with {dt_folds_} and optimal parameters: {result_.mean()}')"
   ]
  }
 ],
 "metadata": {
  "kernelspec": {
   "display_name": "Python 3",
   "language": "python",
   "name": "python3"
  },
  "language_info": {
   "codemirror_mode": {
    "name": "ipython",
    "version": 3
   },
   "file_extension": ".py",
   "mimetype": "text/x-python",
   "name": "python",
   "nbconvert_exporter": "python",
   "pygments_lexer": "ipython3",
   "version": "3.8.2"
  }
 },
 "nbformat": 4,
 "nbformat_minor": 5
}
