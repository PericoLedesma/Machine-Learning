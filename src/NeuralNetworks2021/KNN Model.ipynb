{
 "cells": [
  {
   "cell_type": "markdown",
   "id": "90b65eed",
   "metadata": {},
   "source": [
    "# Index\n",
    "\n",
    "1. Preprocesing raw data <br>\n",
    "    1.1.  Reading files<br>\n",
    "    1.2. Resizing<br>\n",
    "    1.3. Splitting data (50%-50% now)<br>\n",
    "    1.4. Binarization<br>\n",
    "    1.5. Normalization<br>\n",
    "2. Model implementation: KNN<br>\n",
    "    2.1. K-fold validation<br>\n",
    "    2.2. Grid search<br>"
   ]
  },
  {
   "cell_type": "markdown",
   "id": "9558c69a",
   "metadata": {},
   "source": [
    "### Libraries"
   ]
  },
  {
   "cell_type": "code",
   "execution_count": 312,
   "id": "679bf530",
   "metadata": {},
   "outputs": [],
   "source": [
    "import pandas as pd\n",
    "import numpy as np\n",
    "import matplotlib.pyplot as plt"
   ]
  },
  {
   "cell_type": "markdown",
   "id": "362e2cb9",
   "metadata": {},
   "source": [
    "# 1. Preprocesing raw data"
   ]
  },
  {
   "cell_type": "markdown",
   "id": "4d0a67d9",
   "metadata": {},
   "source": [
    "### 1.1 Reading data file"
   ]
  },
  {
   "cell_type": "code",
   "execution_count": 313,
   "id": "359f981d",
   "metadata": {},
   "outputs": [],
   "source": [
    "df = pd.read_csv('mfeat-pix.txt', header=None, delimiter='\\n')"
   ]
  },
  {
   "cell_type": "code",
   "execution_count": 314,
   "id": "71e4bef4",
   "metadata": {},
   "outputs": [],
   "source": [
    "with open('mfeat-pix.txt') as f:\n",
    "    raw_dataset = f.readlines()"
   ]
  },
  {
   "cell_type": "code",
   "execution_count": 315,
   "id": "c9e20b1a",
   "metadata": {},
   "outputs": [],
   "source": [
    "for i in range(len(raw_dataset)):\n",
    "    array = raw_dataset[i].split(' ')\n",
    "    a = np.array('')\n",
    "    # We do an array with the items\n",
    "    for item in array:\n",
    "        a = np.append(a, item)\n",
    "\n",
    "    # We delete empty items\n",
    "    a = a[a != \"\"]\n",
    "\n",
    "    # We change it from string to float\n",
    "    a = a.astype('float64')\n",
    "\n",
    "    if i == 0:\n",
    "        dataset = a\n",
    "    else:\n",
    "        dataset = np.vstack([dataset, a])"
   ]
  },
  {
   "cell_type": "markdown",
   "id": "8014db5c",
   "metadata": {},
   "source": [
    "### 1.2 Resizing"
   ]
  },
  {
   "cell_type": "code",
   "execution_count": 316,
   "id": "c01f6157",
   "metadata": {},
   "outputs": [
    {
     "data": {
      "text/plain": [
       "(20, 100, 240)"
      ]
     },
     "execution_count": 316,
     "metadata": {},
     "output_type": "execute_result"
    }
   ],
   "source": [
    "# Resizing to make 20 groups of 100 images, where each groups has 1 number\n",
    "dataset = np.resize(dataset, (20, 24000))\n",
    "dataset = np.array([np.resize(row, (100, 240))for row in dataset])\n",
    "dataset.shape"
   ]
  },
  {
   "cell_type": "markdown",
   "id": "afe269d0",
   "metadata": {},
   "source": [
    "### 1.3 Splitting data (50%-50% now)"
   ]
  },
  {
   "cell_type": "code",
   "execution_count": 317,
   "id": "d473ba54",
   "metadata": {},
   "outputs": [
    {
     "data": {
      "text/plain": [
       "(10, 100, 240)"
      ]
     },
     "execution_count": 317,
     "metadata": {},
     "output_type": "execute_result"
    }
   ],
   "source": [
    "# Each X array has 100 images of one number (10 numbers = 1000 images)\n",
    "X_train = dataset[::2]\n",
    "X_test = dataset[1::2]\n",
    "X_train.shape"
   ]
  },
  {
   "cell_type": "code",
   "execution_count": 318,
   "id": "34c6cc65",
   "metadata": {},
   "outputs": [
    {
     "data": {
      "text/plain": [
       "(1000, 1)"
      ]
     },
     "execution_count": 318,
     "metadata": {},
     "output_type": "execute_result"
    }
   ],
   "source": [
    "# Creating array with the labels.\n",
    "y_train=[0]\n",
    "number = 0\n",
    "\n",
    "for i in range(1,1000):\n",
    "    if i%100 == 0 and i!=0:\n",
    "        number+=1\n",
    "        \n",
    "    y_train = np.vstack([y_train, number])\n",
    "    \n",
    "y_test=y_train\n",
    "y_train.shape"
   ]
  },
  {
   "cell_type": "code",
   "execution_count": 319,
   "id": "262113b7",
   "metadata": {},
   "outputs": [
    {
     "data": {
      "text/plain": [
       "((2000, 240), (2000, 1))"
      ]
     },
     "execution_count": 319,
     "metadata": {},
     "output_type": "execute_result"
    }
   ],
   "source": [
    "# Creating array with the labels of the original dataset\n",
    "dataset = np.resize(dataset, (2000, 240))\n",
    "dataset_labels=[0]\n",
    "number = 0\n",
    "\n",
    "for i in range(1,2000):\n",
    "    if i%200 == 0 and i!=0:\n",
    "        number+=1\n",
    "        \n",
    "    dataset_labels = np.vstack([dataset_labels, number])\n",
    "dataset.shape, dataset_labels.shape"
   ]
  },
  {
   "cell_type": "markdown",
   "id": "45347d56",
   "metadata": {},
   "source": [
    "### 1.4 Binarization of the image"
   ]
  },
  {
   "cell_type": "code",
   "execution_count": 320,
   "id": "821a9972",
   "metadata": {},
   "outputs": [],
   "source": [
    "import cv2\n",
    "retval, X_train = cv2.threshold(src = X_train, thresh =3, maxval=6, type=cv2.THRESH_BINARY)\n",
    "retval, X_test = cv2.threshold(src = X_test, thresh =3, maxval=6, type=cv2.THRESH_BINARY)"
   ]
  },
  {
   "cell_type": "code",
   "execution_count": 321,
   "id": "45ff5e40",
   "metadata": {
    "scrolled": true
   },
   "outputs": [
    {
     "data": {
      "image/png": "[encoded data removed]",
      "text/plain": [
       "<Figure size 432x288 with 1 Axes>"
      ]
     },
     "metadata": {
      "needs_background": "light"
     },
     "output_type": "display_data"
    }
   ],
   "source": [
    "# Display a number to check\n",
    "display_number = X_train[5]\n",
    "display_number = np.resize(display_number, (16, 15))\n",
    "\n",
    "plt.imshow(display_number, cmap='binary')\n",
    "plt.show()"
   ]
  },
  {
   "cell_type": "markdown",
   "id": "e24256e4",
   "metadata": {},
   "source": [
    "### 1.5 Normalice data"
   ]
  },
  {
   "cell_type": "code",
   "execution_count": 322,
   "id": "079e3f91",
   "metadata": {},
   "outputs": [],
   "source": [
    "X_train = X_train/6\n",
    "X_test = X_test/6"
   ]
  },
  {
   "cell_type": "code",
   "execution_count": 323,
   "id": "19be59f5",
   "metadata": {},
   "outputs": [],
   "source": [
    "#Resizing\n",
    "X_train = np.resize(X_train, (1000, 240))\n",
    "X_test = np.resize(X_test, (1000, 240))"
   ]
  },
  {
   "cell_type": "code",
   "execution_count": 324,
   "id": "e871cd64",
   "metadata": {},
   "outputs": [
    {
     "data": {
      "text/plain": [
       "(1000, 240)"
      ]
     },
     "execution_count": 324,
     "metadata": {},
     "output_type": "execute_result"
    }
   ],
   "source": [
    "X_train.shape"
   ]
  },
  {
   "cell_type": "markdown",
   "id": "18a9688d",
   "metadata": {},
   "source": [
    "-----------\n",
    "# 2. Model implementation: KNN"
   ]
  },
  {
   "cell_type": "markdown",
   "id": "19a3f00c",
   "metadata": {},
   "source": [
    "### With the original data"
   ]
  },
  {
   "cell_type": "code",
   "execution_count": 325,
   "id": "f7874375",
   "metadata": {},
   "outputs": [],
   "source": [
    "from sklearn.neighbors import KNeighborsClassifier"
   ]
  },
  {
   "cell_type": "code",
   "execution_count": 326,
   "id": "722ac85c",
   "metadata": {},
   "outputs": [
    {
     "data": {
      "text/plain": [
       "KNeighborsClassifier(n_neighbors=9)"
      ]
     },
     "execution_count": 326,
     "metadata": {},
     "output_type": "execute_result"
    }
   ],
   "source": [
    "# Build and train the model with the value selected: k= 9\n",
    "KNN = KNeighborsClassifier(n_neighbors=9)\n",
    "KNN.fit(X_train, y_train.ravel())"
   ]
  },
  {
   "cell_type": "code",
   "execution_count": 327,
   "id": "5a8b3c51",
   "metadata": {},
   "outputs": [],
   "source": [
    "# We predict the labels of the test data\n",
    "y_pred = KNN.predict(X_test)\n",
    "y_test = np.resize(y_test,(1000,))"
   ]
  },
  {
   "cell_type": "code",
   "execution_count": 328,
   "id": "9813b972",
   "metadata": {},
   "outputs": [
    {
     "data": {
      "text/plain": [
       "(1000,)"
      ]
     },
     "execution_count": 328,
     "metadata": {},
     "output_type": "execute_result"
    }
   ],
   "source": [
    "y_test.shape"
   ]
  },
  {
   "cell_type": "code",
   "execution_count": 329,
   "id": "ef3b3f03",
   "metadata": {},
   "outputs": [
    {
     "data": {
      "image/png": "[encoded data removed]",
      "text/plain": [
       "<Figure size 576x360 with 2 Axes>"
      ]
     },
     "metadata": {
      "needs_background": "light"
     },
     "output_type": "display_data"
    }
   ],
   "source": [
    "import seaborn as sns\n",
    "from sklearn.metrics import multilabel_confusion_matrix\n",
    "from sklearn import metrics \n",
    "#Confusion matrix to evaluate the model \n",
    "plt.figure(figsize=(8,5))\n",
    "confusion_matrix = pd.crosstab(y_test, y_pred, rownames=['Actual'], \n",
    "                               colnames=['Predicted'])\n",
    "\n",
    "sns.heatmap(confusion_matrix, annot=True)\n",
    "#plt.savefig(\"Confusion_Matrix_KNN.png\")\n",
    "plt.show()"
   ]
  },
  {
   "cell_type": "code",
   "execution_count": 330,
   "id": "01d03a97",
   "metadata": {},
   "outputs": [
    {
     "data": {
      "text/plain": [
       "0.963"
      ]
     },
     "execution_count": 330,
     "metadata": {},
     "output_type": "execute_result"
    }
   ],
   "source": [
    "# Accuracy of the model\n",
    "metrics.accuracy_score(y_test, y_pred)"
   ]
  },
  {
   "cell_type": "code",
   "execution_count": 331,
   "id": "203d36cd",
   "metadata": {},
   "outputs": [
    {
     "name": "stdout",
     "output_type": "stream",
     "text": [
      "More metrics about the model.\n",
      "\n",
      "              precision    recall  f1-score   support\n",
      "\n",
      "         0.0       0.93      0.97      0.95       100\n",
      "         1.0       0.87      1.00      0.93       100\n",
      "         2.0       0.98      1.00      0.99       100\n",
      "         3.0       0.96      0.95      0.95       100\n",
      "         4.0       1.00      0.98      0.99       100\n",
      "\n",
      "   micro avg       0.95      0.98      0.96       500\n",
      "   macro avg       0.95      0.98      0.96       500\n",
      "weighted avg       0.95      0.98      0.96       500\n",
      "\n"
     ]
    }
   ],
   "source": [
    "print(f'More metrics about the model.\\n\\n' \\\n",
    "      f'{metrics.classification_report(y_test, y_pred, labels=[0.0, 1.0, 2.0, 3.0, 4.0])}')"
   ]
  },
  {
   "cell_type": "markdown",
   "id": "1a8f35c0",
   "metadata": {},
   "source": [
    "#### Kerner PCA dimension reduction"
   ]
  },
  {
   "cell_type": "code",
   "execution_count": 332,
   "id": "bb892173",
   "metadata": {
    "scrolled": true
   },
   "outputs": [
    {
     "data": {
      "text/plain": [
       "((1000, 240), (1000, 1))"
      ]
     },
     "execution_count": 332,
     "metadata": {},
     "output_type": "execute_result"
    }
   ],
   "source": [
    "X_train.shape, y_train.shape"
   ]
  },
  {
   "cell_type": "code",
   "execution_count": 333,
   "id": "591ff5f6",
   "metadata": {},
   "outputs": [],
   "source": [
    "from sklearn.decomposition import KernelPCA\n",
    "pcakernel = KernelPCA(n_components=18, kernel='rbf')\n",
    "X_train_reduced = pcakernel.fit_transform(X_train)\n",
    "X_test_reduced = pcakernel.transform(X_test)"
   ]
  },
  {
   "cell_type": "code",
   "execution_count": 334,
   "id": "d32c1424",
   "metadata": {},
   "outputs": [
    {
     "data": {
      "text/plain": [
       "KNeighborsClassifier(n_neighbors=9)"
      ]
     },
     "execution_count": 334,
     "metadata": {},
     "output_type": "execute_result"
    }
   ],
   "source": [
    "# Build and train the model with the value selected: k= 9\n",
    "KNN = KNeighborsClassifier(n_neighbors=9)\n",
    "KNN.fit(X_train_reduced, y_train.ravel())"
   ]
  },
  {
   "cell_type": "code",
   "execution_count": 335,
   "id": "8428c9e5",
   "metadata": {},
   "outputs": [
    {
     "data": {
      "text/plain": [
       "((1000,), (1000, 240))"
      ]
     },
     "execution_count": 335,
     "metadata": {},
     "output_type": "execute_result"
    }
   ],
   "source": [
    "# We predict the labels of the test data\n",
    "y_pred = KNN.predict(X_test_reduced)\n",
    "y_pred.shape, X_train.shape"
   ]
  },
  {
   "cell_type": "code",
   "execution_count": 336,
   "id": "3f40e4eb",
   "metadata": {},
   "outputs": [
    {
     "data": {
      "text/plain": [
       "0.966"
      ]
     },
     "execution_count": 336,
     "metadata": {},
     "output_type": "execute_result"
    }
   ],
   "source": [
    "# Accuracy of the model\n",
    "metrics.accuracy_score(y_test, y_pred)"
   ]
  },
  {
   "cell_type": "markdown",
   "id": "1108c699",
   "metadata": {},
   "source": [
    "###  2.1 K-fold validation"
   ]
  },
  {
   "cell_type": "code",
   "execution_count": 337,
   "id": "4816d56b",
   "metadata": {},
   "outputs": [],
   "source": [
    "from sklearn.model_selection import KFold, cross_val_score, GridSearchCV\n",
    "\n",
    "def k_fold(folds):\n",
    "    split_data = KFold(n_splits = folds, shuffle = True, random_state = np.random.RandomState(5))\n",
    "    return split_data, folds"
   ]
  },
  {
   "cell_type": "code",
   "execution_count": 338,
   "id": "8f357255",
   "metadata": {},
   "outputs": [
    {
     "name": "stdout",
     "output_type": "stream",
     "text": [
      "Average accuracy from 3 folds: 0.9704997351174263\n",
      "\n",
      "Average accuracy from 5 folds: 0.9744999999999999\n"
     ]
    }
   ],
   "source": [
    "dt_k, dt_folds = k_fold(3)\n",
    "dt_k_, dt_folds_ = k_fold(5)\n",
    "\n",
    "input_data = dataset\n",
    "label_data = dataset_labels.ravel()\n",
    "\n",
    "result = cross_val_score(KNN , input_data, label_data, cv = dt_k)\n",
    "print(f\"Average accuracy from 3 folds: {result.mean()}\\n\")\n",
    "result_ = cross_val_score(KNN , input_data, label_data, cv = dt_k_)\n",
    "print(f\"Average accuracy from 5 folds: {result_.mean()}\")\n",
    "\n"
   ]
  },
  {
   "cell_type": "markdown",
   "id": "53e3649b",
   "metadata": {},
   "source": [
    "### 2.2 Grid search"
   ]
  },
  {
   "cell_type": "code",
   "execution_count": 339,
   "id": "98ef6f87",
   "metadata": {},
   "outputs": [],
   "source": [
    "# Make a search space ->> make a dictionary of hyperparameter values to search\n",
    "\n",
    "search_space={\n",
    "    'n_neighbors': (1,10, 1),\n",
    "    'leaf_size': (20,40,1),\n",
    "    'p': (1,2),\n",
    "    'weights': ('uniform', 'distance'),\n",
    "    'metric': ('minkowski', 'chebyshev'),\n",
    "}"
   ]
  },
  {
   "cell_type": "code",
   "execution_count": 340,
   "id": "867a3f01",
   "metadata": {},
   "outputs": [],
   "source": [
    "# Make a GridSearchCV object \n",
    "grid_search_KNN = GridSearchCV(\n",
    "    estimator=KNN, # Model that we are going to use\n",
    "    param_grid=search_space, # The search space\n",
    "    scoring = 'accuracy', # Scoring methods\n",
    "    cv = 5,\n",
    ")"
   ]
  },
  {
   "cell_type": "code",
   "execution_count": 341,
   "id": "b0eee4df",
   "metadata": {
    "scrolled": true
   },
   "outputs": [
    {
     "data": {
      "text/plain": [
       "GridSearchCV(cv=5, estimator=KNeighborsClassifier(n_neighbors=9),\n",
       "             param_grid={'leaf_size': (20, 40, 1),\n",
       "                         'metric': ('minkowski', 'chebyshev'),\n",
       "                         'n_neighbors': (1, 10, 1), 'p': (1, 2),\n",
       "                         'weights': ('uniform', 'distance')},\n",
       "             scoring='accuracy')"
      ]
     },
     "execution_count": 341,
     "metadata": {},
     "output_type": "execute_result"
    }
   ],
   "source": [
    "grid_search_KNN.fit(X_train_reduced, y_train.ravel())"
   ]
  },
  {
   "cell_type": "code",
   "execution_count": 342,
   "id": "84bf4df1",
   "metadata": {},
   "outputs": [
    {
     "name": "stdout",
     "output_type": "stream",
     "text": [
      "{'leaf_size': 20, 'metric': 'minkowski', 'n_neighbors': 1, 'p': 2, 'weights': 'uniform'}\n"
     ]
    }
   ],
   "source": [
    "print(grid_search_KNN.best_params_)"
   ]
  },
  {
   "cell_type": "code",
   "execution_count": 343,
   "id": "95f23595",
   "metadata": {},
   "outputs": [
    {
     "name": "stdout",
     "output_type": "stream",
     "text": [
      "Decision tree accuracy score with 5 and optimal parameters: 0.9755\n"
     ]
    }
   ],
   "source": [
    "#Rest parameters are default in class object.\n",
    "KNN_best_ = KNeighborsClassifier(leaf_size= 20, metric= 'minkowski', n_neighbors= 10, p= 2, weights= 'distance')\n",
    "\n",
    "result_ = cross_val_score(KNN_best_ , input_data, label_data, cv = dt_k_)\n",
    "print(f'Decision tree accuracy score with {dt_folds_} and optimal parameters: {result_.mean()}')"
   ]
  }
 ],
 "metadata": {
  "kernelspec": {
   "display_name": "Python 3",
   "language": "python",
   "name": "python3"
  },
  "language_info": {
   "codemirror_mode": {
    "name": "ipython",
    "version": 3
   },
   "file_extension": ".py",
   "mimetype": "text/x-python",
   "name": "python",
   "nbconvert_exporter": "python",
   "pygments_lexer": "ipython3",
   "version": "3.8.2"
  }
 },
 "nbformat": 4,
 "nbformat_minor": 5
}
