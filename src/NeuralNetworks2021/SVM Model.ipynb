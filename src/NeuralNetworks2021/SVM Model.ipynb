{
 "cells": [
  {
   "cell_type": "markdown",
   "id": "06201c67",
   "metadata": {},
   "source": [
    "# Index\n",
    "\n",
    "1. Preprocesing raw data <br>\n",
    "    1.1.  Reading files<br>\n",
    "    1.2. Resizing<br>\n",
    "    1.3. Splitting data (50%-50% now)<br>\n",
    "    1.4. Binarization<br>\n",
    "    1.5. Normalization<br>\n",
    "2. Model implementation: SVM<br>\n",
    "    2.1. K-fold validation<br>"
   ]
  },
  {
   "cell_type": "markdown",
   "id": "9558c69a",
   "metadata": {},
   "source": [
    "### Libraries"
   ]
  },
  {
   "cell_type": "code",
   "execution_count": 259,
   "id": "679bf530",
   "metadata": {},
   "outputs": [],
   "source": [
    "import pandas as pd\n",
    "import numpy as np\n",
    "import matplotlib.pyplot as plt\n",
    "\n",
    "from sklearn.decomposition import KernelPCA\n",
    "\n",
    "from sklearn.metrics import multilabel_confusion_matrix\n",
    "from sklearn import metrics "
   ]
  },
  {
   "cell_type": "markdown",
   "id": "f2f77903",
   "metadata": {},
   "source": [
    "# 1. Preprocesing raw data"
   ]
  },
  {
   "cell_type": "markdown",
   "id": "4d0a67d9",
   "metadata": {},
   "source": [
    "### 1.1 Reading data file"
   ]
  },
  {
   "cell_type": "code",
   "execution_count": 260,
   "id": "71e4bef4",
   "metadata": {},
   "outputs": [],
   "source": [
    "with open('mfeat-pix.txt') as f:\n",
    "    raw_dataset = f.readlines()"
   ]
  },
  {
   "cell_type": "code",
   "execution_count": 261,
   "id": "c9e20b1a",
   "metadata": {},
   "outputs": [],
   "source": [
    "for i in range(len(raw_dataset)):\n",
    "    array = raw_dataset[i].split(' ')\n",
    "    a = np.array('')\n",
    "    # We do an array with the items\n",
    "    for item in array:\n",
    "        a = np.append(a, item)\n",
    "\n",
    "    # We delete empty items\n",
    "    a = a[a != \"\"]\n",
    "\n",
    "    # We change it from string to float\n",
    "    a = a.astype('float64')\n",
    "\n",
    "    if i == 0:\n",
    "        dataset = a\n",
    "    else:\n",
    "        dataset = np.vstack([dataset, a])"
   ]
  },
  {
   "cell_type": "markdown",
   "id": "8014db5c",
   "metadata": {},
   "source": [
    "### 1.2 Resizing dataset"
   ]
  },
  {
   "cell_type": "code",
   "execution_count": 262,
   "id": "c01f6157",
   "metadata": {},
   "outputs": [
    {
     "data": {
      "text/plain": [
       "(20, 100, 240)"
      ]
     },
     "execution_count": 262,
     "metadata": {},
     "output_type": "execute_result"
    }
   ],
   "source": [
    "# Resizing to make 20 groups of 100 images, where each groups has 1 number\n",
    "dataset = np.resize(dataset, (20, 24000))\n",
    "dataset = np.array([np.resize(row, (100, 240))for row in dataset])\n",
    "dataset.shape"
   ]
  },
  {
   "cell_type": "markdown",
   "id": "afe269d0",
   "metadata": {},
   "source": [
    "### 1.3 Splitting data (50%-50% )"
   ]
  },
  {
   "cell_type": "code",
   "execution_count": 263,
   "id": "d473ba54",
   "metadata": {},
   "outputs": [
    {
     "data": {
      "text/plain": [
       "(10, 100, 240)"
      ]
     },
     "execution_count": 263,
     "metadata": {},
     "output_type": "execute_result"
    }
   ],
   "source": [
    "# Each X array has 100 images of one number (10 numbers = 1000 images)\n",
    "X_train = dataset[::2]\n",
    "X_test = dataset[1::2]\n",
    "X_train.shape"
   ]
  },
  {
   "cell_type": "code",
   "execution_count": 264,
   "id": "34c6cc65",
   "metadata": {},
   "outputs": [
    {
     "data": {
      "text/plain": [
       "(1000, 1)"
      ]
     },
     "execution_count": 264,
     "metadata": {},
     "output_type": "execute_result"
    }
   ],
   "source": [
    "# Creating array with the labels.\n",
    "y_train=[0]\n",
    "number = 0\n",
    "\n",
    "for i in range(1,1000):\n",
    "    if i%100 == 0 and i!=0:\n",
    "        number+=1\n",
    "        \n",
    "    y_train = np.vstack([y_train, number])\n",
    "    \n",
    "y_test=y_train\n",
    "y_train.shape"
   ]
  },
  {
   "cell_type": "code",
   "execution_count": 265,
   "id": "9791af70",
   "metadata": {},
   "outputs": [
    {
     "data": {
      "image/png": "[encoded data removed]",
      "text/plain": [
       "<Figure size 432x288 with 1 Axes>"
      ]
     },
     "metadata": {
      "needs_background": "light"
     },
     "output_type": "display_data"
    }
   ],
   "source": [
    "# Display of a number\n",
    "display_number = X_train[5][10]\n",
    "display_number = np.resize(display_number, (16, 15))\n",
    "\n",
    "plt.imshow(display_number, cmap='binary')\n",
    "plt.show()"
   ]
  },
  {
   "cell_type": "code",
   "execution_count": 266,
   "id": "be0fb215",
   "metadata": {},
   "outputs": [
    {
     "data": {
      "text/plain": [
       "((2000, 240), (2000, 1))"
      ]
     },
     "execution_count": 266,
     "metadata": {},
     "output_type": "execute_result"
    }
   ],
   "source": [
    "# Creating array with the labels of the original dataset\n",
    "dataset = np.resize(dataset, (2000, 240))\n",
    "dataset_labels=[0]\n",
    "number = 0\n",
    "\n",
    "for i in range(1,2000):\n",
    "    if i%200 == 0 and i!=0:\n",
    "        number+=1\n",
    "        \n",
    "    dataset_labels = np.vstack([dataset_labels, number])\n",
    "dataset.shape, dataset_labels.shape"
   ]
  },
  {
   "cell_type": "code",
   "execution_count": 267,
   "id": "19be59f5",
   "metadata": {},
   "outputs": [],
   "source": [
    "# Resizing\n",
    "X_train = np.resize(X_train, (1000, 240))\n",
    "X_test = np.resize(X_test, (1000, 240))"
   ]
  },
  {
   "cell_type": "code",
   "execution_count": 268,
   "id": "60c26897",
   "metadata": {},
   "outputs": [],
   "source": [
    "y_train =y_train.ravel()\n",
    "y_test = y_test.ravel()"
   ]
  },
  {
   "cell_type": "code",
   "execution_count": 269,
   "id": "e871cd64",
   "metadata": {},
   "outputs": [
    {
     "data": {
      "text/plain": [
       "((1000,), (1000, 240))"
      ]
     },
     "execution_count": 269,
     "metadata": {},
     "output_type": "execute_result"
    }
   ],
   "source": [
    "y_train.shape, X_train.shape"
   ]
  },
  {
   "cell_type": "markdown",
   "id": "45347d56",
   "metadata": {},
   "source": [
    "### 1.4 Binarization"
   ]
  },
  {
   "cell_type": "code",
   "execution_count": 270,
   "id": "821a9972",
   "metadata": {},
   "outputs": [],
   "source": [
    "import cv2 as cv\n",
    "retval, X_train = cv2.threshold(src = X_train, thresh =3, maxval=6, type=cv2.THRESH_BINARY)"
   ]
  },
  {
   "cell_type": "code",
   "execution_count": 271,
   "id": "45ff5e40",
   "metadata": {
    "scrolled": true
   },
   "outputs": [
    {
     "data": {
      "image/png": "[encoded data removed]",
      "text/plain": [
       "<Figure size 432x288 with 1 Axes>"
      ]
     },
     "metadata": {
      "needs_background": "light"
     },
     "output_type": "display_data"
    }
   ],
   "source": [
    "# Display a number to check\n",
    "display_number = X_train[5]\n",
    "display_number = np.resize(display_number, (16, 15))\n",
    "\n",
    "plt.imshow(display_number, cmap='binary')\n",
    "plt.show()"
   ]
  },
  {
   "cell_type": "markdown",
   "id": "18a9688d",
   "metadata": {},
   "source": [
    "# 2. Model implementation: SVM "
   ]
  },
  {
   "cell_type": "markdown",
   "id": "eced597c",
   "metadata": {},
   "source": [
    "#### With original data"
   ]
  },
  {
   "cell_type": "code",
   "execution_count": 272,
   "id": "f7874375",
   "metadata": {},
   "outputs": [
    {
     "data": {
      "text/plain": [
       "SVC(random_state=0)"
      ]
     },
     "execution_count": 272,
     "metadata": {},
     "output_type": "execute_result"
    }
   ],
   "source": [
    "from sklearn.svm import SVC\n",
    "classifier_SVM = SVC(kernel = 'rbf', random_state = 0)\n",
    "classifier_SVM.fit(X_train, y_train)"
   ]
  },
  {
   "cell_type": "code",
   "execution_count": 273,
   "id": "5a8b3c51",
   "metadata": {},
   "outputs": [
    {
     "data": {
      "text/plain": [
       "(1000,)"
      ]
     },
     "execution_count": 273,
     "metadata": {},
     "output_type": "execute_result"
    }
   ],
   "source": [
    "# We predict the labels of the test data\n",
    "y_pred = classifier_SVM.predict(X_test)\n",
    "y_pred.shape"
   ]
  },
  {
   "cell_type": "code",
   "execution_count": 274,
   "id": "460ea297",
   "metadata": {},
   "outputs": [
    {
     "data": {
      "text/plain": [
       "(1000,)"
      ]
     },
     "execution_count": 274,
     "metadata": {},
     "output_type": "execute_result"
    }
   ],
   "source": [
    "y_test.shape"
   ]
  },
  {
   "cell_type": "code",
   "execution_count": 275,
   "id": "ef3b3f03",
   "metadata": {},
   "outputs": [
    {
     "data": {
      "image/png": "[encoded data removed]",
      "text/plain": [
       "<Figure size 576x360 with 2 Axes>"
      ]
     },
     "metadata": {
      "needs_background": "light"
     },
     "output_type": "display_data"
    }
   ],
   "source": [
    "import seaborn as sns\n",
    "from sklearn.metrics import multilabel_confusion_matrix\n",
    "from sklearn import metrics \n",
    "#Confusion matrix to evaluate the model \n",
    "plt.figure(figsize=(8,5))\n",
    "confusion_matrix = pd.crosstab(y_test, y_pred, rownames=['Actual'], \n",
    "                               colnames=['Predicted'])\n",
    "\n",
    "sns.heatmap(confusion_matrix, annot=True)\n",
    "#plt.savefig(\"Confusion_Matrix_KNN.png\")\n",
    "plt.show()"
   ]
  },
  {
   "cell_type": "code",
   "execution_count": 276,
   "id": "01d03a97",
   "metadata": {},
   "outputs": [
    {
     "data": {
      "text/plain": [
       "0.966"
      ]
     },
     "execution_count": 276,
     "metadata": {},
     "output_type": "execute_result"
    }
   ],
   "source": [
    "# Accuracy of the model\n",
    "metrics.accuracy_score(y_test, y_pred)"
   ]
  },
  {
   "cell_type": "code",
   "execution_count": 277,
   "id": "203d36cd",
   "metadata": {},
   "outputs": [
    {
     "name": "stdout",
     "output_type": "stream",
     "text": [
      "More metrics about the model.\n",
      "\n",
      "              precision    recall  f1-score   support\n",
      "\n",
      "         0.0       0.98      0.96      0.97       100\n",
      "         1.0       0.91      0.99      0.95       100\n",
      "         2.0       0.99      0.99      0.99       100\n",
      "         3.0       0.96      0.96      0.96       100\n",
      "         4.0       0.96      0.99      0.98       100\n",
      "\n",
      "   micro avg       0.96      0.98      0.97       500\n",
      "   macro avg       0.96      0.98      0.97       500\n",
      "weighted avg       0.96      0.98      0.97       500\n",
      "\n"
     ]
    }
   ],
   "source": [
    "print(f'More metrics about the model.\\n\\n' \\\n",
    "      f'{metrics.classification_report(y_test, y_pred, labels=[0.0, 1.0, 2.0, 3.0, 4.0])}')"
   ]
  },
  {
   "cell_type": "markdown",
   "id": "e1a215d8",
   "metadata": {},
   "source": [
    "#### Dimension reduction "
   ]
  },
  {
   "cell_type": "code",
   "execution_count": 278,
   "id": "591ff5f6",
   "metadata": {},
   "outputs": [],
   "source": [
    "from sklearn.decomposition import KernelPCA\n",
    "pcakernel = KernelPCA(n_components=100, kernel='rbf')\n",
    "X_train_reduced = pcakernel.fit_transform(X_train)\n",
    "X_test_reduced = pcakernel.transform(X_test)"
   ]
  },
  {
   "cell_type": "code",
   "execution_count": 279,
   "id": "d32c1424",
   "metadata": {},
   "outputs": [
    {
     "data": {
      "text/plain": [
       "SVC(kernel='linear', random_state=0)"
      ]
     },
     "execution_count": 279,
     "metadata": {},
     "output_type": "execute_result"
    }
   ],
   "source": [
    "from sklearn.svm import SVC\n",
    "classifier_SVM = SVC(kernel = 'linear', random_state = 0)\n",
    "classifier_SVM.fit(X_train_reduced, y_train)"
   ]
  },
  {
   "cell_type": "code",
   "execution_count": 280,
   "id": "8428c9e5",
   "metadata": {},
   "outputs": [
    {
     "data": {
      "text/plain": [
       "(1000,)"
      ]
     },
     "execution_count": 280,
     "metadata": {},
     "output_type": "execute_result"
    }
   ],
   "source": [
    "# We predict the labels of the test data\n",
    "y_pred = classifier_SVM.predict(X_test_reduced)\n",
    "y_pred.shape"
   ]
  },
  {
   "cell_type": "code",
   "execution_count": 281,
   "id": "4d5931f5",
   "metadata": {},
   "outputs": [
    {
     "data": {
      "text/plain": [
       "0.4"
      ]
     },
     "execution_count": 281,
     "metadata": {},
     "output_type": "execute_result"
    }
   ],
   "source": [
    "# Accuracy of the model\n",
    "metrics.accuracy_score(y_test, y_pred)"
   ]
  },
  {
   "cell_type": "markdown",
   "id": "1108c699",
   "metadata": {},
   "source": [
    "###  2.1 K-fold validation"
   ]
  },
  {
   "cell_type": "code",
   "execution_count": 282,
   "id": "4816d56b",
   "metadata": {},
   "outputs": [],
   "source": [
    "from sklearn.model_selection import KFold, cross_val_score, GridSearchCV\n",
    "\n",
    "def k_fold(folds):\n",
    "    split_data = KFold(n_splits = folds, shuffle = True, random_state = np.random.RandomState(5))\n",
    "    return split_data, folds"
   ]
  },
  {
   "cell_type": "code",
   "execution_count": 283,
   "id": "8f357255",
   "metadata": {},
   "outputs": [
    {
     "name": "stdout",
     "output_type": "stream",
     "text": [
      "Average accuracy from 3 folds: 0.9714984849917384\n",
      "\n",
      "Average accuracy from 5 folds: 0.9734999999999999\n"
     ]
    }
   ],
   "source": [
    "dt_k, dt_folds = k_fold(3)\n",
    "dt_k_, dt_folds_ = k_fold(5)\n",
    "\n",
    "input_data = dataset\n",
    "label_data = dataset_labels.ravel()\n",
    "\n",
    "result = cross_val_score(classifier_SVM , input_data, label_data, cv = dt_k)\n",
    "print(f\"Average accuracy from 3 folds: {result.mean()}\\n\")\n",
    "result_ = cross_val_score(classifier_SVM , input_data, label_data, cv = dt_k_)\n",
    "print(f\"Average accuracy from 5 folds: {result_.mean()}\")\n",
    "\n"
   ]
  }
 ],
 "metadata": {
  "kernelspec": {
   "display_name": "Python 3",
   "language": "python",
   "name": "python3"
  },
  "language_info": {
   "codemirror_mode": {
    "name": "ipython",
    "version": 3
   },
   "file_extension": ".py",
   "mimetype": "text/x-python",
   "name": "python",
   "nbconvert_exporter": "python",
   "pygments_lexer": "ipython3",
   "version": "3.8.2"
  }
 },
 "nbformat": 4,
 "nbformat_minor": 5
}
